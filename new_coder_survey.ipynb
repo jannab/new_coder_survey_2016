{
 "cells": [
  {
   "cell_type": "markdown",
   "metadata": {},
   "source": [
    "# Predicting Job Chances after Bootcamp\n",
    "My goal for this project is to be able to predict if a bootcamp participant is able to get a developer job afterwards."
   ]
  },
  {
   "cell_type": "markdown",
   "metadata": {},
   "source": [
    "## Exploring the Data"
   ]
  },
  {
   "cell_type": "code",
   "execution_count": 485,
   "metadata": {
    "collapsed": false
   },
   "outputs": [
    {
     "name": "stdout",
     "output_type": "stream",
     "text": [
      "Student data read successfully!\n"
     ]
    }
   ],
   "source": [
    "# Import libraries\n",
    "import numpy as np\n",
    "import pandas as pd\n",
    "from time import time\n",
    "from sklearn.metrics import f1_score\n",
    "\n",
    "# Read student data\n",
    "student_data = pd.read_csv(\"2016-FCC-New-Coders-Survey-Data.csv\", low_memory = False)\n",
    "print \"Student data read successfully!\""
   ]
  },
  {
   "cell_type": "markdown",
   "metadata": {},
   "source": [
    "Let's take a look at the data of students who attended a bootcamp and finished it. It is also important to only have participants who answered the question, if they got a job or not."
   ]
  },
  {
   "cell_type": "code",
   "execution_count": 486,
   "metadata": {
    "collapsed": false
   },
   "outputs": [],
   "source": [
    "student_data = student_data[(student_data['AttendedBootcamp'] == 1) & (student_data['BootcampFinish'] == 1)]\n",
    "student_data = student_data.dropna(subset = ['BootcampFullJobAfter'])"
   ]
  },
  {
   "cell_type": "markdown",
   "metadata": {},
   "source": [
    "Let's see how many bootcamp participants we have information on, and learn about the job success rate among those."
   ]
  },
  {
   "cell_type": "code",
   "execution_count": 487,
   "metadata": {
    "collapsed": false
   },
   "outputs": [
    {
     "name": "stdout",
     "output_type": "stream",
     "text": [
      "Total number of participants: 635\n",
      "Number of features: 112\n",
      "Number of participants who got a job: 371\n",
      "Number of participants who failed to get a job: 264\n",
      "Job success rate of bootcamp participants: 58.43%\n"
     ]
    }
   ],
   "source": [
    "# TODO: Calculate number of students who did or did not get a job after a bootcamp\n",
    "n_students = student_data.shape[0]\n",
    "\n",
    "# TODO: Calculate number of features, -1 to not calculate the target column\n",
    "n_features = student_data.shape[1] - 1\n",
    "\n",
    "# TODO: Calculate passing students\n",
    "n_success = student_data[student_data['BootcampFullJobAfter'] == 1].shape[0]\n",
    "\n",
    "# TODO: Calculate failing students\n",
    "n_failed = n_students - n_success\n",
    "\n",
    "# TODO: Calculate graduation rate\n",
    "success_rate = n_success * 100.0 / n_students\n",
    "\n",
    "# Print the results\n",
    "print \"Total number of participants: {}\".format(n_students)\n",
    "print \"Number of features: {}\".format(n_features)\n",
    "print \"Number of participants who got a job: {}\".format(n_success)\n",
    "print \"Number of participants who failed to get a job: {}\".format(n_failed)\n",
    "print \"Job success rate of bootcamp participants: {:.2f}%\".format(success_rate)"
   ]
  },
  {
   "cell_type": "markdown",
   "metadata": {},
   "source": [
    "## Preparing the Data\n",
    "### Identify feature and target columns\n",
    "Let's have a look at the feature columns we have. We'll use `'BootcampFullJobAfter'` as the target column."
   ]
  },
  {
   "cell_type": "code",
   "execution_count": 488,
   "metadata": {
    "collapsed": false
   },
   "outputs": [
    {
     "name": "stdout",
     "output_type": "stream",
     "text": [
      "Feature columns:\n",
      "['Age', 'AttendedBootcamp', 'BootcampFinish', 'BootcampLoanYesNo', 'BootcampMonthsAgo', 'BootcampName', 'BootcampPostSalary', 'BootcampRecommend', 'ChildrenNumber', 'CityPopulation', 'CodeEventBootcamp', 'CodeEventCoffee', 'CodeEventConferences', 'CodeEventDjangoGirls', 'CodeEventGameJam', 'CodeEventGirlDev', 'CodeEventHackathons', 'CodeEventMeetup', 'CodeEventNodeSchool', 'CodeEventNone', 'CodeEventOther', 'CodeEventRailsBridge', 'CodeEventRailsGirls', 'CodeEventStartUpWknd', 'CodeEventWomenCode', 'CodeEventWorkshop', 'CommuteTime', 'CountryCitizen', 'CountryLive', 'EmploymentField', 'EmploymentFieldOther', 'EmploymentStatus', 'EmploymentStatusOther', 'ExpectedEarning', 'FinanciallySupporting', 'Gender', 'HasChildren', 'HasDebt', 'HasFinancialDependents', 'HasHighSpdInternet', 'HasHomeMortgage', 'HasServedInMilitary', 'HasStudentDebt', 'HomeMortgageOwe', 'HoursLearning', 'ID.x', 'ID.y', 'Income', 'IsEthnicMinority', 'IsReceiveDiabilitiesBenefits', 'IsSoftwareDev', 'IsUnderEmployed', 'JobApplyWhen', 'JobPref', 'JobRelocateYesNo', 'JobRoleInterest', 'JobRoleInterestOther', 'JobWherePref', 'LanguageAtHome', 'MaritalStatus', 'MoneyForLearning', 'MonthsProgramming', 'NetworkID', 'Part1EndTime', 'Part1StartTime', 'Part2EndTime', 'Part2StartTime', 'PodcastChangeLog', 'PodcastCodeNewbie', 'PodcastCodingBlocks', 'PodcastDeveloperTea', 'PodcastDotNetRocks', 'PodcastHanselminutes', 'PodcastJSJabber', 'PodcastJsAir', 'PodcastNone', 'PodcastOther', 'PodcastProgrammingThrowDown', 'PodcastRubyRogues', 'PodcastSEDaily', 'PodcastShopTalk', 'PodcastTalkPython', 'PodcastWebAhead', 'ResourceBlogs', 'ResourceBooks', 'ResourceCodeWars', 'ResourceCodecademy', 'ResourceCoursera', 'ResourceDevTips', 'ResourceEdX', 'ResourceEggHead', 'ResourceFCC', 'ResourceGoogle', 'ResourceHackerRank', 'ResourceKhanAcademy', 'ResourceLynda', 'ResourceMDN', 'ResourceOdinProj', 'ResourceOther', 'ResourcePluralSight', 'ResourceReddit', 'ResourceSkillCrush', 'ResourceSoloLearn', 'ResourceStackOverflow', 'ResourceTreehouse', 'ResourceUdacity', 'ResourceUdemy', 'ResourceW3Schools', 'ResourceYouTube', 'SchoolDegree', 'SchoolMajor', 'StudentDebtOwe']\n",
      "\n",
      "Target column: BootcampFullJobAfter\n"
     ]
    }
   ],
   "source": [
    "# Extract feature columns\n",
    "feature_cols = list(student_data.columns[:3]) + list(student_data.columns[4:])\n",
    "\n",
    "# Extract target column 'passed'\n",
    "target_col = student_data.columns[3] \n",
    "\n",
    "# Show the list of columns\n",
    "print \"Feature columns:\\n{}\".format(feature_cols)\n",
    "print \"\\nTarget column: {}\".format(target_col)"
   ]
  },
  {
   "cell_type": "markdown",
   "metadata": {},
   "source": [
    "To make reasonable predictions, we have to drop some columns which contain information we wouldn't have, if the person is still attending the bootcamp. We also drop the columns `'AttendedBootcamp'` and `'BootcampFinish'`, because we only look at students who answered those questions with `yes`.\n",
    "\n",
    "We also get rid of the `'ID.x'`, `'ID.y'`, `'NetworkID'`, `'Part1EndTime'`, `'Part1StartTime'`, `'Part2EndTime'`and `'Part2StartTime'` features, because they are unique to each individual student and don't help with the prediction."
   ]
  },
  {
   "cell_type": "code",
   "execution_count": 489,
   "metadata": {
    "collapsed": false
   },
   "outputs": [],
   "source": [
    "features_to_remove = ['AttendedBootcamp', 'BootcampFinish', 'BootcampMonthsAgo', 'BootcampPostSalary', 'BootcampRecommend', 'ID.x', 'ID.y', 'NetworkID', 'Part1EndTime', 'Part1StartTime', 'Part2EndTime', 'Part2StartTime']\n",
    "\n",
    "for ftr in features_to_remove:\n",
    "    feature_cols.remove(ftr)"
   ]
  },
  {
   "cell_type": "markdown",
   "metadata": {},
   "source": [
    "Let's have a look on the data."
   ]
  },
  {
   "cell_type": "code",
   "execution_count": 490,
   "metadata": {
    "collapsed": false
   },
   "outputs": [
    {
     "data": {
      "text/html": [
       "<div>\n",
       "<table border=\"1\" class=\"dataframe\">\n",
       "  <thead>\n",
       "    <tr style=\"text-align: right;\">\n",
       "      <th></th>\n",
       "      <th>Age</th>\n",
       "      <th>BootcampLoanYesNo</th>\n",
       "      <th>BootcampName</th>\n",
       "      <th>ChildrenNumber</th>\n",
       "      <th>CityPopulation</th>\n",
       "      <th>CodeEventBootcamp</th>\n",
       "      <th>CodeEventCoffee</th>\n",
       "      <th>CodeEventConferences</th>\n",
       "      <th>CodeEventDjangoGirls</th>\n",
       "      <th>CodeEventGameJam</th>\n",
       "      <th>...</th>\n",
       "      <th>ResourceSoloLearn</th>\n",
       "      <th>ResourceStackOverflow</th>\n",
       "      <th>ResourceTreehouse</th>\n",
       "      <th>ResourceUdacity</th>\n",
       "      <th>ResourceUdemy</th>\n",
       "      <th>ResourceW3Schools</th>\n",
       "      <th>ResourceYouTube</th>\n",
       "      <th>SchoolDegree</th>\n",
       "      <th>SchoolMajor</th>\n",
       "      <th>StudentDebtOwe</th>\n",
       "    </tr>\n",
       "  </thead>\n",
       "  <tbody>\n",
       "    <tr>\n",
       "      <th>93</th>\n",
       "      <td>32.0</td>\n",
       "      <td>0.0</td>\n",
       "      <td>Codify Academy</td>\n",
       "      <td>NaN</td>\n",
       "      <td>between 100,000 and 1 million</td>\n",
       "      <td>NaN</td>\n",
       "      <td>NaN</td>\n",
       "      <td>NaN</td>\n",
       "      <td>NaN</td>\n",
       "      <td>NaN</td>\n",
       "      <td>...</td>\n",
       "      <td>NaN</td>\n",
       "      <td>NaN</td>\n",
       "      <td>NaN</td>\n",
       "      <td>1.0</td>\n",
       "      <td>NaN</td>\n",
       "      <td>NaN</td>\n",
       "      <td>NaN</td>\n",
       "      <td>bachelor's degree</td>\n",
       "      <td>Biology</td>\n",
       "      <td>NaN</td>\n",
       "    </tr>\n",
       "    <tr>\n",
       "      <th>97</th>\n",
       "      <td>26.0</td>\n",
       "      <td>0.0</td>\n",
       "      <td>DaVinci Coders</td>\n",
       "      <td>NaN</td>\n",
       "      <td>more than 1 million</td>\n",
       "      <td>NaN</td>\n",
       "      <td>NaN</td>\n",
       "      <td>1.0</td>\n",
       "      <td>NaN</td>\n",
       "      <td>NaN</td>\n",
       "      <td>...</td>\n",
       "      <td>NaN</td>\n",
       "      <td>NaN</td>\n",
       "      <td>NaN</td>\n",
       "      <td>NaN</td>\n",
       "      <td>1.0</td>\n",
       "      <td>NaN</td>\n",
       "      <td>NaN</td>\n",
       "      <td>master's degree (non-professional)</td>\n",
       "      <td>Music</td>\n",
       "      <td>80000.0</td>\n",
       "    </tr>\n",
       "    <tr>\n",
       "      <th>130</th>\n",
       "      <td>41.0</td>\n",
       "      <td>1.0</td>\n",
       "      <td>Coder Foundry</td>\n",
       "      <td>3.0</td>\n",
       "      <td>less than 100,000</td>\n",
       "      <td>NaN</td>\n",
       "      <td>1.0</td>\n",
       "      <td>1.0</td>\n",
       "      <td>NaN</td>\n",
       "      <td>NaN</td>\n",
       "      <td>...</td>\n",
       "      <td>NaN</td>\n",
       "      <td>NaN</td>\n",
       "      <td>NaN</td>\n",
       "      <td>NaN</td>\n",
       "      <td>1.0</td>\n",
       "      <td>NaN</td>\n",
       "      <td>NaN</td>\n",
       "      <td>some college credit, no degree</td>\n",
       "      <td>NaN</td>\n",
       "      <td>8000.0</td>\n",
       "    </tr>\n",
       "    <tr>\n",
       "      <th>159</th>\n",
       "      <td>26.0</td>\n",
       "      <td>0.0</td>\n",
       "      <td>General Assembly</td>\n",
       "      <td>NaN</td>\n",
       "      <td>between 100,000 and 1 million</td>\n",
       "      <td>NaN</td>\n",
       "      <td>1.0</td>\n",
       "      <td>1.0</td>\n",
       "      <td>NaN</td>\n",
       "      <td>NaN</td>\n",
       "      <td>...</td>\n",
       "      <td>NaN</td>\n",
       "      <td>NaN</td>\n",
       "      <td>NaN</td>\n",
       "      <td>NaN</td>\n",
       "      <td>NaN</td>\n",
       "      <td>NaN</td>\n",
       "      <td>NaN</td>\n",
       "      <td>some college credit, no degree</td>\n",
       "      <td>NaN</td>\n",
       "      <td>NaN</td>\n",
       "    </tr>\n",
       "    <tr>\n",
       "      <th>206</th>\n",
       "      <td>36.0</td>\n",
       "      <td>0.0</td>\n",
       "      <td>Thinkful</td>\n",
       "      <td>2.0</td>\n",
       "      <td>more than 1 million</td>\n",
       "      <td>NaN</td>\n",
       "      <td>1.0</td>\n",
       "      <td>NaN</td>\n",
       "      <td>NaN</td>\n",
       "      <td>NaN</td>\n",
       "      <td>...</td>\n",
       "      <td>NaN</td>\n",
       "      <td>NaN</td>\n",
       "      <td>NaN</td>\n",
       "      <td>NaN</td>\n",
       "      <td>NaN</td>\n",
       "      <td>NaN</td>\n",
       "      <td>NaN</td>\n",
       "      <td>bachelor's degree</td>\n",
       "      <td>Communications</td>\n",
       "      <td>NaN</td>\n",
       "    </tr>\n",
       "  </tbody>\n",
       "</table>\n",
       "<p>5 rows × 100 columns</p>\n",
       "</div>"
      ],
      "text/plain": [
       "      Age  BootcampLoanYesNo      BootcampName  ChildrenNumber  \\\n",
       "93   32.0                0.0    Codify Academy             NaN   \n",
       "97   26.0                0.0    DaVinci Coders             NaN   \n",
       "130  41.0                1.0     Coder Foundry             3.0   \n",
       "159  26.0                0.0  General Assembly             NaN   \n",
       "206  36.0                0.0          Thinkful             2.0   \n",
       "\n",
       "                    CityPopulation  CodeEventBootcamp  CodeEventCoffee  \\\n",
       "93   between 100,000 and 1 million                NaN              NaN   \n",
       "97             more than 1 million                NaN              NaN   \n",
       "130              less than 100,000                NaN              1.0   \n",
       "159  between 100,000 and 1 million                NaN              1.0   \n",
       "206            more than 1 million                NaN              1.0   \n",
       "\n",
       "     CodeEventConferences  CodeEventDjangoGirls  CodeEventGameJam  \\\n",
       "93                    NaN                   NaN               NaN   \n",
       "97                    1.0                   NaN               NaN   \n",
       "130                   1.0                   NaN               NaN   \n",
       "159                   1.0                   NaN               NaN   \n",
       "206                   NaN                   NaN               NaN   \n",
       "\n",
       "          ...        ResourceSoloLearn  ResourceStackOverflow  \\\n",
       "93        ...                      NaN                    NaN   \n",
       "97        ...                      NaN                    NaN   \n",
       "130       ...                      NaN                    NaN   \n",
       "159       ...                      NaN                    NaN   \n",
       "206       ...                      NaN                    NaN   \n",
       "\n",
       "     ResourceTreehouse  ResourceUdacity  ResourceUdemy ResourceW3Schools  \\\n",
       "93                 NaN              1.0            NaN               NaN   \n",
       "97                 NaN              NaN            1.0               NaN   \n",
       "130                NaN              NaN            1.0               NaN   \n",
       "159                NaN              NaN            NaN               NaN   \n",
       "206                NaN              NaN            NaN               NaN   \n",
       "\n",
       "     ResourceYouTube                        SchoolDegree     SchoolMajor  \\\n",
       "93               NaN                   bachelor's degree         Biology   \n",
       "97               NaN  master's degree (non-professional)           Music   \n",
       "130              NaN      some college credit, no degree             NaN   \n",
       "159              NaN      some college credit, no degree             NaN   \n",
       "206              NaN                   bachelor's degree  Communications   \n",
       "\n",
       "     StudentDebtOwe  \n",
       "93              NaN  \n",
       "97          80000.0  \n",
       "130          8000.0  \n",
       "159             NaN  \n",
       "206             NaN  \n",
       "\n",
       "[5 rows x 100 columns]"
      ]
     },
     "execution_count": 490,
     "metadata": {},
     "output_type": "execute_result"
    }
   ],
   "source": [
    "student_data[feature_cols].head()"
   ]
  },
  {
   "cell_type": "markdown",
   "metadata": {},
   "source": [
    "We have a lot of cells with no value. That's probably because the people filling out the survey could decide which questions they choose to answer or because all 0 and no are displayed as `NaN`.\n",
    "\n",
    "Especially in questions where the answers are `yes` or `no`, we have the values 1.0 or `NaN`.\n",
    "\n",
    "Let's take a quick look if we have the value 0 in the category `'StudentDebtOwe'`, or if all 0 values are `NaN`."
   ]
  },
  {
   "cell_type": "code",
   "execution_count": 491,
   "metadata": {
    "collapsed": false
   },
   "outputs": [
    {
     "data": {
      "text/html": [
       "<div>\n",
       "<table border=\"1\" class=\"dataframe\">\n",
       "  <thead>\n",
       "    <tr style=\"text-align: right;\">\n",
       "      <th></th>\n",
       "      <th>Age</th>\n",
       "      <th>AttendedBootcamp</th>\n",
       "      <th>BootcampFinish</th>\n",
       "      <th>BootcampFullJobAfter</th>\n",
       "      <th>BootcampLoanYesNo</th>\n",
       "      <th>BootcampMonthsAgo</th>\n",
       "      <th>BootcampName</th>\n",
       "      <th>BootcampPostSalary</th>\n",
       "      <th>BootcampRecommend</th>\n",
       "      <th>ChildrenNumber</th>\n",
       "      <th>...</th>\n",
       "      <th>ResourceSoloLearn</th>\n",
       "      <th>ResourceStackOverflow</th>\n",
       "      <th>ResourceTreehouse</th>\n",
       "      <th>ResourceUdacity</th>\n",
       "      <th>ResourceUdemy</th>\n",
       "      <th>ResourceW3Schools</th>\n",
       "      <th>ResourceYouTube</th>\n",
       "      <th>SchoolDegree</th>\n",
       "      <th>SchoolMajor</th>\n",
       "      <th>StudentDebtOwe</th>\n",
       "    </tr>\n",
       "  </thead>\n",
       "  <tbody>\n",
       "  </tbody>\n",
       "</table>\n",
       "<p>0 rows × 113 columns</p>\n",
       "</div>"
      ],
      "text/plain": [
       "Empty DataFrame\n",
       "Columns: [Age, AttendedBootcamp, BootcampFinish, BootcampFullJobAfter, BootcampLoanYesNo, BootcampMonthsAgo, BootcampName, BootcampPostSalary, BootcampRecommend, ChildrenNumber, CityPopulation, CodeEventBootcamp, CodeEventCoffee, CodeEventConferences, CodeEventDjangoGirls, CodeEventGameJam, CodeEventGirlDev, CodeEventHackathons, CodeEventMeetup, CodeEventNodeSchool, CodeEventNone, CodeEventOther, CodeEventRailsBridge, CodeEventRailsGirls, CodeEventStartUpWknd, CodeEventWomenCode, CodeEventWorkshop, CommuteTime, CountryCitizen, CountryLive, EmploymentField, EmploymentFieldOther, EmploymentStatus, EmploymentStatusOther, ExpectedEarning, FinanciallySupporting, Gender, HasChildren, HasDebt, HasFinancialDependents, HasHighSpdInternet, HasHomeMortgage, HasServedInMilitary, HasStudentDebt, HomeMortgageOwe, HoursLearning, ID.x, ID.y, Income, IsEthnicMinority, IsReceiveDiabilitiesBenefits, IsSoftwareDev, IsUnderEmployed, JobApplyWhen, JobPref, JobRelocateYesNo, JobRoleInterest, JobRoleInterestOther, JobWherePref, LanguageAtHome, MaritalStatus, MoneyForLearning, MonthsProgramming, NetworkID, Part1EndTime, Part1StartTime, Part2EndTime, Part2StartTime, PodcastChangeLog, PodcastCodeNewbie, PodcastCodingBlocks, PodcastDeveloperTea, PodcastDotNetRocks, PodcastHanselminutes, PodcastJSJabber, PodcastJsAir, PodcastNone, PodcastOther, PodcastProgrammingThrowDown, PodcastRubyRogues, PodcastSEDaily, PodcastShopTalk, PodcastTalkPython, PodcastWebAhead, ResourceBlogs, ResourceBooks, ResourceCodeWars, ResourceCodecademy, ResourceCoursera, ResourceDevTips, ResourceEdX, ResourceEggHead, ResourceFCC, ResourceGoogle, ResourceHackerRank, ResourceKhanAcademy, ResourceLynda, ResourceMDN, ResourceOdinProj, ResourceOther, ...]\n",
       "Index: []\n",
       "\n",
       "[0 rows x 113 columns]"
      ]
     },
     "execution_count": 491,
     "metadata": {},
     "output_type": "execute_result"
    }
   ],
   "source": [
    "student_data[student_data['StudentDebtOwe'] == 0]"
   ]
  },
  {
   "cell_type": "markdown",
   "metadata": {},
   "source": [
    "It seems there is value 0. This means it's pretty safe to fill the missing values with 0."
   ]
  },
  {
   "cell_type": "code",
   "execution_count": 492,
   "metadata": {
    "collapsed": true
   },
   "outputs": [],
   "source": [
    "student_data = student_data.fillna(0)"
   ]
  },
  {
   "cell_type": "code",
   "execution_count": 493,
   "metadata": {
    "collapsed": false
   },
   "outputs": [],
   "source": [
    "# Separate the data into feature data and target data (X_all and y_all, respectively)\n",
    "X_all = student_data[feature_cols]\n",
    "y_all = student_data[target_col]"
   ]
  },
  {
   "cell_type": "markdown",
   "metadata": {},
   "source": [
    "### Preprocess Feature Columns\n",
    "Most machine learning algorithms expect numeric data. Let's see if we have any non-numeric features."
   ]
  },
  {
   "cell_type": "code",
   "execution_count": 494,
   "metadata": {
    "collapsed": false
   },
   "outputs": [
    {
     "name": "stdout",
     "output_type": "stream",
     "text": [
      "\n",
      "Feature values:\n",
      "      Age  BootcampLoanYesNo      BootcampName  ChildrenNumber  \\\n",
      "93   32.0                0.0    Codify Academy             0.0   \n",
      "97   26.0                0.0    DaVinci Coders             0.0   \n",
      "130  41.0                1.0     Coder Foundry             3.0   \n",
      "159  26.0                0.0  General Assembly             0.0   \n",
      "206  36.0                0.0          Thinkful             2.0   \n",
      "\n",
      "                    CityPopulation  CodeEventBootcamp  CodeEventCoffee  \\\n",
      "93   between 100,000 and 1 million                0.0              0.0   \n",
      "97             more than 1 million                0.0              0.0   \n",
      "130              less than 100,000                0.0              1.0   \n",
      "159  between 100,000 and 1 million                0.0              1.0   \n",
      "206            more than 1 million                0.0              1.0   \n",
      "\n",
      "     CodeEventConferences  CodeEventDjangoGirls  CodeEventGameJam  \\\n",
      "93                    0.0                   0.0               0.0   \n",
      "97                    1.0                   0.0               0.0   \n",
      "130                   1.0                   0.0               0.0   \n",
      "159                   1.0                   0.0               0.0   \n",
      "206                   0.0                   0.0               0.0   \n",
      "\n",
      "          ...        ResourceSoloLearn  ResourceStackOverflow  \\\n",
      "93        ...                      0.0                    0.0   \n",
      "97        ...                      0.0                    0.0   \n",
      "130       ...                      0.0                    0.0   \n",
      "159       ...                      0.0                    0.0   \n",
      "206       ...                      0.0                    0.0   \n",
      "\n",
      "     ResourceTreehouse  ResourceUdacity  ResourceUdemy ResourceW3Schools  \\\n",
      "93                 0.0              1.0            0.0               0.0   \n",
      "97                 0.0              0.0            1.0               0.0   \n",
      "130                0.0              0.0            1.0               0.0   \n",
      "159                0.0              0.0            0.0               0.0   \n",
      "206                0.0              0.0            0.0               0.0   \n",
      "\n",
      "     ResourceYouTube                        SchoolDegree     SchoolMajor  \\\n",
      "93               0.0                   bachelor's degree         Biology   \n",
      "97               0.0  master's degree (non-professional)           Music   \n",
      "130              0.0      some college credit, no degree               0   \n",
      "159              0.0      some college credit, no degree               0   \n",
      "206              0.0                   bachelor's degree  Communications   \n",
      "\n",
      "     StudentDebtOwe  \n",
      "93              0.0  \n",
      "97          80000.0  \n",
      "130          8000.0  \n",
      "159             0.0  \n",
      "206             0.0  \n",
      "\n",
      "[5 rows x 100 columns]\n"
     ]
    }
   ],
   "source": [
    "# Show the feature information by printing the first five rows\n",
    "print \"\\nFeature values:\"\n",
    "print X_all.head()"
   ]
  },
  {
   "cell_type": "markdown",
   "metadata": {},
   "source": [
    "There are several binary values. This seems fine after replacing all `NaN` with zeros. We still have some non-numeric columns. These are known as categorical variables.\n",
    "\n",
    "To handle the categorcial variables, I create as many columns as possible values and fill these with binary values."
   ]
  },
  {
   "cell_type": "code",
   "execution_count": 495,
   "metadata": {
    "collapsed": false
   },
   "outputs": [
    {
     "name": "stdout",
     "output_type": "stream",
     "text": [
      "Processed feature columns (732 total features):\n",
      "['Age', 'BootcampLoanYesNo', 'BootcampName_0', 'BootcampName_10x.org.il', 'BootcampName_4Geeks Academy', 'BootcampName_AcadGild', 'BootcampName_Academia de C\\xc3\\xb3digo', 'BootcampName_Academy X', 'BootcampName_Ada', 'BootcampName_Anyone Can Learn To Code', 'BootcampName_App Academy', 'BootcampName_Atlanta Code', 'BootcampName_Austin Coding Academy', 'BootcampName_Big Nerd Ranch', 'BootcampName_Bit Bootcamp', 'BootcampName_Bitmaker Labs', 'BootcampName_Bloc.io', 'BootcampName_BoiseCodeWorks', 'BootcampName_BrainStation', 'BootcampName_CODEcamp Charleston', 'BootcampName_Camp Code Away', 'BootcampName_CareerFoundry', 'BootcampName_Code Fellows', 'BootcampName_Code For Progress', 'BootcampName_CodeCore Bootcamp', 'BootcampName_CodeaCamp', 'BootcampName_Codecademy Labs', 'BootcampName_Coder Camps', 'BootcampName_Coder Foundry', \"BootcampName_Coder's Lab\", 'BootcampName_Codesmith', 'BootcampName_Codeup', 'BootcampName_Codify Academy', 'BootcampName_Coding Dojo', 'BootcampName_Coding House', 'BootcampName_DESIGNATION', 'BootcampName_DaVinci Coders', 'BootcampName_Data Science Dojo', 'BootcampName_Dev Academy', 'BootcampName_Dev Bootcamp', 'BootcampName_Dev League', 'BootcampName_DevMountain', 'BootcampName_Devschool', 'BootcampName_Digital House', 'BootcampName_DigitalCrafts', 'BootcampName_Epicodus', 'BootcampName_Flatiron School', 'BootcampName_Founders & Coders', 'BootcampName_Free Code Camp is not a bootcamp - please scroll up and change answer to \"no\"', 'BootcampName_Fullstack Academy', 'BootcampName_Galvanize', 'BootcampName_General Assembly', 'BootcampName_Grace Hopper Academy', 'BootcampName_Grand Circus', 'BootcampName_Hack Reactor', 'BootcampName_Hackbright Academy', 'BootcampName_HackerYou', 'BootcampName_Interface Web School', 'BootcampName_IronHack', 'BootcampName_LAMP Camp', 'BootcampName_LEARN Academy', 'BootcampName_Ladies Learning Code', 'BootcampName_Launch Academy', 'BootcampName_LearningFuze', 'BootcampName_Lighthouse Labs', 'BootcampName_MakerSquare', 'BootcampName_Makers Academy', 'BootcampName_Metis', 'BootcampName_Microsoft Research Data Science Summer School', 'BootcampName_Mobile Makers Academy', 'BootcampName_Montana Code School', 'BootcampName_Nashville Software School', 'BootcampName_New York Code + Design Academy', 'BootcampName_Omaha Code School', 'BootcampName_Operation Spark', 'BootcampName_Orange County Code School', 'BootcampName_Origin Code Academy', 'BootcampName_PDX Code Guild', 'BootcampName_Prime Digital Academy', 'BootcampName_RefactorU', 'BootcampName_Sabio.la', 'BootcampName_Science to Data Science', 'BootcampName_SeedPaths', 'BootcampName_Skillcrush', 'BootcampName_Software Guild', 'BootcampName_Stackademy', 'BootcampName_Starter League', 'BootcampName_Startup Institute', 'BootcampName_TalentBuddy', 'BootcampName_Tech Academy Portland', 'BootcampName_Tech Talent South', 'BootcampName_Telegraph Academy', 'BootcampName_The Data Incubator', 'BootcampName_The Firehose Project', 'BootcampName_The Iron Yard', 'BootcampName_Thinkful', 'BootcampName_Turing', 'BootcampName_V School', 'BootcampName_Viking Code School', 'BootcampName_We Can Code IT', 'BootcampName_We Got Coders', 'BootcampName_World Tech Makers', 'BootcampName_Wyncode', 'BootcampName_Zip Code Wilmington', 'BootcampName_codeU', 'BootcampName_devCodeCamp', 'BootcampName_tradecraft', 'ChildrenNumber', 'CityPopulation_0', 'CityPopulation_between 100,000 and 1 million', 'CityPopulation_less than 100,000', 'CityPopulation_more than 1 million', 'CodeEventBootcamp', 'CodeEventCoffee', 'CodeEventConferences', 'CodeEventDjangoGirls', 'CodeEventGameJam', 'CodeEventGirlDev', 'CodeEventHackathons', 'CodeEventMeetup', 'CodeEventNodeSchool', 'CodeEventNone', 'CodeEventOther_0', 'CodeEventOther_Bootcamp', 'CodeEventOther_Bootcamp School Program', 'CodeEventOther_Code Boot Camp', 'CodeEventOther_Code For America', 'CodeEventOther_Code For Boston', 'CodeEventOther_Code School', 'CodeEventOther_CodeGenius', 'CodeEventOther_Codesmith', 'CodeEventOther_Coding Bootcamp', 'CodeEventOther_Coding Dojo', 'CodeEventOther_Coding School', 'CodeEventOther_Company Classes', 'CodeEventOther_Crash Courses', 'CodeEventOther_Dev Talks', 'CodeEventOther_Enspiral Dev Academy & Ember.js', 'CodeEventOther_GDG Study Jams', 'CodeEventOther_Game Jams', 'CodeEventOther_Geek Girl Dinner', 'CodeEventOther_General Assembly', 'CodeEventOther_GitHub Night', 'CodeEventOther_Hack Hours', 'CodeEventOther_Hack Reactor', 'CodeEventOther_Hack With Friends Over Drinks/food', 'CodeEventOther_Hacker Hours', 'CodeEventOther_Hacker Hours, Other Meetups', 'CodeEventOther_Hackerhours', 'CodeEventOther_Immersive Coding Bootcamp', 'CodeEventOther_Launch Academy', 'CodeEventOther_Local Meetups', 'CodeEventOther_Long Beach City College', 'CodeEventOther_Maptime', 'CodeEventOther_Meet Ups', 'CodeEventOther_MeetUps', 'CodeEventOther_Meetup', 'CodeEventOther_Meetup Events', 'CodeEventOther_Meetups', 'CodeEventOther_Meetups / Presentations', 'CodeEventOther_PyLadies Meetups', 'CodeEventOther_PyLadies, Hackbright Academy, RailsGirls, DjangoGirls', 'CodeEventOther_Pylvax - Budapest Self Organized Workshop', 'CodeEventOther_Rails Girls', 'CodeEventOther_Random Meetups', 'CodeEventOther_Ruby Brigade, JS Related Meetup Groups', 'CodeEventOther_Ruby Night', 'CodeEventOther_Study Groups', 'CodeEventOther_Techgirlz', 'CodeEventOther_Technology Specific', 'CodeEventOther_The Iron Yard', 'CodeEventOther_Treehouse', 'CodeEventOther_Various', 'CodeEventOther_Viking Code School', 'CodeEventOther_Web Dev Bootcamp Study Sessions', 'CodeEventOther_WebCamp', 'CodeEventOther_Women In Tech', 'CodeEventOther_Workshops, Meetups', 'CodeEventRailsBridge', 'CodeEventRailsGirls', 'CodeEventStartUpWknd', 'CodeEventWomenCode', 'CodeEventWorkshop', 'CommuteTime', 'CountryCitizen_0', 'CountryCitizen_Algeria', 'CountryCitizen_Argentina', 'CountryCitizen_Australia', 'CountryCitizen_Barbados', 'CountryCitizen_Belarus', 'CountryCitizen_Brazil', 'CountryCitizen_Bulgaria', 'CountryCitizen_Canada', 'CountryCitizen_China', 'CountryCitizen_Colombia', 'CountryCitizen_Croatia', 'CountryCitizen_Denmark', 'CountryCitizen_Dominican Republic', 'CountryCitizen_Egypt', 'CountryCitizen_France', 'CountryCitizen_Germany', 'CountryCitizen_Greece', 'CountryCitizen_Hong Kong', 'CountryCitizen_India', 'CountryCitizen_Iran', 'CountryCitizen_Israel', 'CountryCitizen_Kazakhstan', 'CountryCitizen_Kenya', 'CountryCitizen_Kyrgyzstan', 'CountryCitizen_Lithuania', 'CountryCitizen_Malaysia', 'CountryCitizen_Mexico', 'CountryCitizen_Moldova', 'CountryCitizen_Netherlands (Holland, Europe)', 'CountryCitizen_New Zealand', 'CountryCitizen_Nigeria', 'CountryCitizen_Pakistan', 'CountryCitizen_Philippines', 'CountryCitizen_Poland', 'CountryCitizen_Portugal', 'CountryCitizen_Romania', 'CountryCitizen_Russia', 'CountryCitizen_South Africa', 'CountryCitizen_Sweden', 'CountryCitizen_Taiwan', 'CountryCitizen_Thailand', 'CountryCitizen_Turkey', 'CountryCitizen_Ukraine', 'CountryCitizen_United Kingdom', 'CountryCitizen_United States of America', 'CountryCitizen_Venezuela', 'CountryCitizen_Vietnam', 'CountryLive_0', 'CountryLive_Australia', 'CountryLive_Belarus', 'CountryLive_Brazil', 'CountryLive_Cambodia', 'CountryLive_Canada', 'CountryLive_China', 'CountryLive_Croatia', 'CountryLive_Denmark', 'CountryLive_Egypt', 'CountryLive_France', 'CountryLive_Germany', 'CountryLive_Greece', 'CountryLive_Hong Kong', 'CountryLive_India', 'CountryLive_Iran', 'CountryLive_Japan', 'CountryLive_Kenya', 'CountryLive_Kyrgyzstan', 'CountryLive_Malaysia', 'CountryLive_Mexico', 'CountryLive_Moldova', 'CountryLive_Netherlands (Holland, Europe)', 'CountryLive_New Zealand', 'CountryLive_Nigeria', 'CountryLive_Pakistan', 'CountryLive_Philippines', 'CountryLive_Poland', 'CountryLive_Portugal', 'CountryLive_Romania', 'CountryLive_Russia', 'CountryLive_South Africa', 'CountryLive_Spain', 'CountryLive_Taiwan', 'CountryLive_Thailand', 'CountryLive_Ukraine', 'CountryLive_United Kingdom', 'CountryLive_United States of America', 'CountryLive_Venezuela', 'CountryLive_Vietnam', 'CountryLive_Virgin Islands (USA)', 'EmploymentField_0', 'EmploymentField_architecture or physical engineering', 'EmploymentField_arts, entertainment, sports, or media', 'EmploymentField_construction and extraction', 'EmploymentField_education', 'EmploymentField_finance', 'EmploymentField_food and beverage', 'EmploymentField_health care', 'EmploymentField_law enforcement and fire and rescue', 'EmploymentField_office and administrative support', 'EmploymentField_sales', 'EmploymentField_software development', 'EmploymentField_software development and IT', 'EmploymentField_transportation', 'EmploymentFieldOther_0', 'EmploymentFieldOther_Advertising', 'EmploymentFieldOther_Finance', 'EmploymentFieldOther_Front-End Developer / WordPress', 'EmploymentFieldOther_Infrastructure Managament', 'EmploymentFieldOther_Library / Non-profit', 'EmploymentFieldOther_Marketing', 'EmploymentFieldOther_Professional Services for small business', 'EmploymentFieldOther_Telecom', 'EmploymentFieldOther_Urban planning', 'EmploymentFieldOther_Writer', 'EmploymentFieldOther_advertising', 'EmploymentFieldOther_marketing', 'EmploymentFieldOther_technology/education', 'EmploymentFieldOther_telecomm', 'EmploymentFieldOther_temporary contract work', 'EmploymentStatus_0', 'EmploymentStatus_A stay-at-home parent or homemaker', 'EmploymentStatus_Doing an unpaid internship', 'EmploymentStatus_Employed for wages', 'EmploymentStatus_Military', 'EmploymentStatus_Not working and not looking for work', 'EmploymentStatus_Not working but looking for work', 'EmploymentStatus_Retired', 'EmploymentStatus_Self-employed business owner', 'EmploymentStatus_Self-employed freelancer', 'EmploymentStatus_Unable to work', 'EmploymentStatusOther_0', 'EmploymentStatusOther_Paid apprenticeship ', 'EmploymentStatusOther_Unemployed, Occasional freelance, odd jobs', 'EmploymentStatusOther_Waiting to start new job', 'EmploymentStatusOther_self employed freelancer and looking for fulltime job', 'ExpectedEarning', 'FinanciallySupporting', 'Gender_0', 'Gender_agender', 'Gender_female', 'Gender_genderqueer', 'Gender_male', 'Gender_trans', 'HasChildren', 'HasDebt', 'HasFinancialDependents', 'HasHighSpdInternet', 'HasHomeMortgage', 'HasServedInMilitary', 'HasStudentDebt', 'HomeMortgageOwe', 'HoursLearning', 'Income', 'IsEthnicMinority', 'IsReceiveDiabilitiesBenefits', 'IsSoftwareDev', 'IsUnderEmployed', 'JobApplyWhen_0', \"JobApplyWhen_I haven't decided\", \"JobApplyWhen_I'm already applying\", 'JobApplyWhen_Within 7 to 12 months', 'JobApplyWhen_Within the next 6 months', 'JobApplyWhen_more than 12 months from now', 'JobPref_0', 'JobPref_freelance ', 'JobPref_start your own business', 'JobPref_work for a medium-sized company', 'JobPref_work for a multinational corporation', 'JobPref_work for a startup', 'JobRelocateYesNo', 'JobRoleInterest_0', 'JobRoleInterest_  Data Scientist / Data Engineer', 'JobRoleInterest_  DevOps / SysAdmin', 'JobRoleInterest_  Front-End Web Developer', 'JobRoleInterest_  Mobile Developer', 'JobRoleInterest_  Product Manager', 'JobRoleInterest_  Quality Assurance Engineer', 'JobRoleInterest_  User Experience Designer', 'JobRoleInterest_Back-End Web Developer', 'JobRoleInterest_Full-Stack Web Developer', 'JobRoleInterestOther_0', 'JobRoleInterestOther_LOB', 'JobRoleInterestOther_Network Engineer', 'JobRoleInterestOther_Ux Researcher', 'JobWherePref_0', 'JobWherePref_from home', 'JobWherePref_in an office with other developers', 'JobWherePref_no preference', 'LanguageAtHome_0', 'LanguageAtHome_Acehnese', 'LanguageAtHome_Arabic', 'LanguageAtHome_Bulgarian', 'LanguageAtHome_Chinese', 'LanguageAtHome_Croatian', 'LanguageAtHome_Dutch', 'LanguageAtHome_English', 'LanguageAtHome_French', 'LanguageAtHome_German', 'LanguageAtHome_Greek', 'LanguageAtHome_Gujarati', 'LanguageAtHome_Hebrew', 'LanguageAtHome_Italian', 'LanguageAtHome_Korean', 'LanguageAtHome_Malay Bhasa Indonesia', 'LanguageAtHome_Malayalam', 'LanguageAtHome_Mandarin Chinese', 'LanguageAtHome_Odia (Oriya)', 'LanguageAtHome_Persian', 'LanguageAtHome_Polish', 'LanguageAtHome_Portuguese', 'LanguageAtHome_Romanian', 'LanguageAtHome_Russian', 'LanguageAtHome_Sesotho', 'LanguageAtHome_Spanish', 'LanguageAtHome_Swahili', 'LanguageAtHome_Swedish', 'LanguageAtHome_Tagalog', 'LanguageAtHome_Tamil', 'LanguageAtHome_Telugu', 'LanguageAtHome_Thai', 'LanguageAtHome_Turkish', 'LanguageAtHome_Ukrainian', 'LanguageAtHome_Urdu', 'LanguageAtHome_Vietnamese', 'LanguageAtHome_Yue (Cantonese) Chinese', 'MaritalStatus_0', 'MaritalStatus_divorced', 'MaritalStatus_married or domestic partnership', 'MaritalStatus_separated', 'MaritalStatus_single, never married', 'MoneyForLearning', 'MonthsProgramming', 'PodcastChangeLog', 'PodcastCodeNewbie', 'PodcastCodingBlocks', 'PodcastDeveloperTea', 'PodcastDotNetRocks', 'PodcastHanselminutes', 'PodcastJSJabber', 'PodcastJsAir', 'PodcastNone', 'PodcastOther_0', 'PodcastOther_Adventures in angular', 'PodcastOther_Angular Air', 'PodcastOther_Bike Shed', 'PodcastOther_Bikeshed podcast', 'PodcastOther_Coder radio and a bunch of MSFT related', 'PodcastOther_Design Details, Toolsday, The Web Ahead', 'PodcastOther_Developer TeA', 'PodcastOther_Developer Tea', 'PodcastOther_Developer Tea; Fragmented', 'PodcastOther_Giant Robots Smashing into other Giant Robots', 'PodcastOther_Hanselminutes', 'PodcastOther_JS Weekly', 'PodcastOther_Jupiter Broadcast', 'PodcastOther_NSScreencast', 'PodcastOther_Php roundtable ', 'PodcastOther_Programming Throwdown', 'PodcastOther_Rails / react / angular / css ones', 'PodcastOther_Rails casts. I did not know about the ones above', 'PodcastOther_RailsCasts', 'PodcastOther_Railscasts ', 'PodcastOther_React Podcast', 'PodcastOther_Ruby On Rails Podcast ', 'PodcastOther_Ruby Rogue', 'PodcastOther_Ruby Rogues', 'PodcastOther_Ruby Rogues, Full Stack Radio, The Bike Shed', 'PodcastOther_Ruby Rogues, Linux Voice', 'PodcastOther_Ruby Rouges', 'PodcastOther_Ruby Rouges ', 'PodcastOther_Ruby on Rails', 'PodcastOther_Ruby on Rails Podcast', 'PodcastOther_Ruby rogues', 'PodcastOther_RubyRogues', 'PodcastOther_Shop Talk', 'PodcastOther_Shop Talk Show, Five Minutes of JavaScript, Developer Tea', 'PodcastOther_Shop Talk Show, The Bike Shed', 'PodcastOther_Shop talk', 'PodcastOther_Shop talk show podcast', 'PodcastOther_Simple Programmer', 'PodcastOther_Spec.fm (immutable, does not compute)', 'PodcastOther_The Bike Shed', 'PodcastOther_The Web Ahead', 'PodcastOther_coding blocks', 'PodcastOther_debug', 'PodcastOther_developer tea', 'PodcastOther_funfunfunctions', 'PodcastOther_http://giantrobots.fm/', 'PodcastOther_revision path', 'PodcastOther_thoughbot\\'s \"weekly iterations\" are nice ', 'PodcastProgrammingThrowDown', 'PodcastRubyRogues', 'PodcastSEDaily', 'PodcastShopTalk', 'PodcastTalkPython', 'PodcastWebAhead', 'ResourceBlogs', 'ResourceBooks', 'ResourceCodeWars', 'ResourceCodecademy', 'ResourceCoursera', 'ResourceDevTips', 'ResourceEdX', 'ResourceEggHead', 'ResourceFCC', 'ResourceGoogle', 'ResourceHackerRank', 'ResourceKhanAcademy', 'ResourceLynda', 'ResourceMDN', 'ResourceOdinProj', 'ResourceOther_0', 'ResourceOther_Andela Homestudy Curriculum', 'ResourceOther_Aquent', 'ResourceOther_Books', 'ResourceOther_Books on coding and an in-person bootcamp', 'ResourceOther_CSS-Tricks', 'ResourceOther_Code Avengers', 'ResourceOther_Code.org', 'ResourceOther_CodeSchool', 'ResourceOther_Codementor.io', 'ResourceOther_Coder Foundry', 'ResourceOther_CoderCamps ', 'ResourceOther_DevBootcamp SF and work', 'ResourceOther_DigitalCrafts Bootcamp', 'ResourceOther_EggHead.io', 'ResourceOther_Egghead, Frontend Masters', 'ResourceOther_FireHose Project', 'ResourceOther_Flatiron school', 'ResourceOther_Frontend Masters', 'ResourceOther_Frontend masters ', 'ResourceOther_General assembly ', 'ResourceOther_Gorails', 'ResourceOther_Hackbright Academy', 'ResourceOther_Head First Books', 'ResourceOther_Individual developer blogs', 'ResourceOther_Just about anything I can get my hands on. ', 'ResourceOther_Learn (insert programming language) The Hard Way, Euler Probelms', 'ResourceOther_Learn - Flatiron School', 'ResourceOther_Learn.co', 'ResourceOther_Learnhowtoprogram.com', 'ResourceOther_Lynda', 'ResourceOther_Lynda.com', 'ResourceOther_Lynda.com, InfiniteSkills.com, CodeSchool.com', 'ResourceOther_MDN, Stack Overflow', 'ResourceOther_NodeSchool', 'ResourceOther_Orange County Code School', 'ResourceOther_Pluralsight and SafariBooksOnline', 'ResourceOther_Project Euler', 'ResourceOther_Ray Wenderlich', 'ResourceOther_Ruby Monk', 'ResourceOther_SitePoint', 'ResourceOther_Skillcrush', 'ResourceOther_Software Guild', 'ResourceOther_Stack Overflow', 'ResourceOther_Stack Overflow ', 'ResourceOther_StackOverFlow', 'ResourceOther_Team TreeHouse', 'ResourceOther_Team Treehouse', 'ResourceOther_The Flatiron School', 'ResourceOther_The Iron Yard', 'ResourceOther_The Software Guild', 'ResourceOther_Treehouse', 'ResourceOther_Treehouse ', 'ResourceOther_Treehouse & Envato', 'ResourceOther_Treehouse, Epicodus', 'ResourceOther_Tutorials, books, GA Dash', 'ResourceOther_Upcase', 'ResourceOther_Viking Code School', 'ResourceOther_YouTube ', 'ResourceOther_app academy', 'ResourceOther_developmentor', 'ResourceOther_documentation', 'ResourceOther_egghead.io', 'ResourceOther_iTunes U', 'ResourceOther_learn.co', 'ResourceOther_lynda and front end masters', 'ResourceOther_lynda.com', 'ResourceOther_practical books (\"Build Your Own ______\" Rails, Angular, Lisp, etc)', 'ResourceOther_project euler', 'ResourceOther_team treehouse', 'ResourceOther_teamtreehouse', 'ResourceOther_treehouse', 'ResourceOther_various', 'ResourcePluralSight', 'ResourceReddit', 'ResourceSkillCrush', 'ResourceSoloLearn', 'ResourceStackOverflow', 'ResourceTreehouse', 'ResourceUdacity', 'ResourceUdemy', 'ResourceW3Schools', 'ResourceYouTube', 'SchoolDegree_0', 'SchoolDegree_Ph.D.', \"SchoolDegree_associate's degree\", \"SchoolDegree_bachelor's degree\", 'SchoolDegree_high school diploma or equivalent (GED)', \"SchoolDegree_master's degree (non-professional)\", 'SchoolDegree_no high school (secondary school)', 'SchoolDegree_professional degree (MBA, MD, JD, etc.)', 'SchoolDegree_some college credit, no degree', 'SchoolDegree_some high school', 'SchoolDegree_trade, technical, or vocational training', 'SchoolMajor_0', 'SchoolMajor_Accounting', 'SchoolMajor_Accounting Technician and Bookkeeping', 'SchoolMajor_Acting', 'SchoolMajor_Advertising', 'SchoolMajor_Advertising and Marketing', 'SchoolMajor_Aeronautics and Aviation Technology', 'SchoolMajor_African American Studies', 'SchoolMajor_African Studies', 'SchoolMajor_Anthropology', 'SchoolMajor_Archaeology', 'SchoolMajor_Architecture', 'SchoolMajor_Art History', 'SchoolMajor_Art Studies', 'SchoolMajor_Astronomy', 'SchoolMajor_Audio and Video Production', 'SchoolMajor_Automotive Mechanics', 'SchoolMajor_Biochemistry and Molecular Biology', 'SchoolMajor_Biology', 'SchoolMajor_Biology and Biological Sciences', 'SchoolMajor_Biomedical Engineering', 'SchoolMajor_Biomedical Science', 'SchoolMajor_Biotechnology', 'SchoolMajor_Botany and Plant Physiology', 'SchoolMajor_Business Administration', 'SchoolMajor_Business Administration and Management', 'SchoolMajor_Chemical Engineering', 'SchoolMajor_Chemistry', 'SchoolMajor_Child Development', 'SchoolMajor_Cinematography And Film', 'SchoolMajor_Civil Engineering', 'SchoolMajor_Clinical Psychology', 'SchoolMajor_Communication and Media Studies', 'SchoolMajor_Communications', 'SchoolMajor_Comparative Literature', 'SchoolMajor_Computer Graphics', 'SchoolMajor_Computer Networking', 'SchoolMajor_Computer Programming', 'SchoolMajor_Computer Science', 'SchoolMajor_Computer Software Engineering', 'SchoolMajor_Computer Systems Networking and Telecommunications', 'SchoolMajor_Computer Systems Technician', 'SchoolMajor_Computer and Information Studies', 'SchoolMajor_Computer and Information Systems Security', 'SchoolMajor_Counseling Psychology', 'SchoolMajor_Creative Writing', 'SchoolMajor_Criminal Justice', 'SchoolMajor_Criminal Justice and Law Enforcement Administration', 'SchoolMajor_Design and Visual Communications', 'SchoolMajor_East Asian Languages and Literatures', 'SchoolMajor_Economics', 'SchoolMajor_Economics and Econometrics', 'SchoolMajor_Education', 'SchoolMajor_Educational Leadership and Administration', 'SchoolMajor_Electrical Engineering', 'SchoolMajor_Electrical and Electronics Engineering', 'SchoolMajor_Electronics Equipment Installation and Repair', 'SchoolMajor_Engineering', 'SchoolMajor_Engineering Management', 'SchoolMajor_English', 'SchoolMajor_Environmental Architecture and Design', 'SchoolMajor_Environmental Studies', 'SchoolMajor_Environmental and Wildlife Management', 'SchoolMajor_Film and Video Studies', 'SchoolMajor_Finance', 'SchoolMajor_Financial Planning', 'SchoolMajor_General Studies', 'SchoolMajor_Genetics', 'SchoolMajor_Geography', 'SchoolMajor_Geology', 'SchoolMajor_Gerontology', 'SchoolMajor_Graphic Design', 'SchoolMajor_History', 'SchoolMajor_Hospitality Management', 'SchoolMajor_Hotel and Hospitality Management', 'SchoolMajor_Human Resources', 'SchoolMajor_Industrial Engineering', 'SchoolMajor_Industrial and Engineering Management', 'SchoolMajor_Information Systems', 'SchoolMajor_Information Technology', 'SchoolMajor_International Business', 'SchoolMajor_International Relations', 'SchoolMajor_International Studies', 'SchoolMajor_Japanese Language and Literature', 'SchoolMajor_Journalism', 'SchoolMajor_Kinesiology and Exercise Science', 'SchoolMajor_Landscape Architecture', 'SchoolMajor_Latin American Studies', 'SchoolMajor_Law', 'SchoolMajor_Liberal Arts', 'SchoolMajor_Library Science and Administration', 'SchoolMajor_Library and Archives Assisting', 'SchoolMajor_Linguistics', 'SchoolMajor_Linguistics, Interpretation, and Translation', 'SchoolMajor_Logistics and Supply Chain Management', 'SchoolMajor_Marketing', 'SchoolMajor_Materials Engineering', 'SchoolMajor_Math', 'SchoolMajor_Mathematics', 'SchoolMajor_Mechanical Engineering', 'SchoolMajor_Molecular Biology', 'SchoolMajor_Multimedia', 'SchoolMajor_Music', 'SchoolMajor_Music History and Literature', 'SchoolMajor_Music Performance', 'SchoolMajor_Music Technology', 'SchoolMajor_Natural Resources Conservation', 'SchoolMajor_Network, Database, and System Administration', 'SchoolMajor_Neuroscience', 'SchoolMajor_North American Studies', 'SchoolMajor_Nursing', 'SchoolMajor_Operations Management', 'SchoolMajor_Philosophy', 'SchoolMajor_Physics', 'SchoolMajor_Political Science', 'SchoolMajor_Political Science and Government', 'SchoolMajor_Professional, Technical, Business, and Scientific Writing', 'SchoolMajor_Psychology', 'SchoolMajor_Public Administration', 'SchoolMajor_Public Health', 'SchoolMajor_Public Relations', 'SchoolMajor_Radio And Television Broadcasting', 'SchoolMajor_Radiology Technician', 'SchoolMajor_Robotics and Automation Engineering', 'SchoolMajor_School Psychology', 'SchoolMajor_Secondary Education', 'SchoolMajor_Social Work', 'SchoolMajor_Sociology', 'SchoolMajor_Software Engineering', 'SchoolMajor_South and Southeast Asian Languages and Literatures', 'SchoolMajor_Spanish Language and Literature', 'SchoolMajor_Special Education', 'SchoolMajor_Speech Language Pathology', 'SchoolMajor_Structural Engineering', 'SchoolMajor_Studio Arts', 'SchoolMajor_Taxation', 'SchoolMajor_Theatre Design', 'SchoolMajor_Urban Planning', 'SchoolMajor_Veterinary Medicine', 'SchoolMajor_Web Design', 'SchoolMajor_Web Page and Digital Design', \"SchoolMajor_Women's Studies\", 'StudentDebtOwe']\n"
     ]
    }
   ],
   "source": [
    "def preprocess_features(X):\n",
    "    ''' Preprocesses the student data and converts non-numeric categorical variables into dummy variables. '''\n",
    "    \n",
    "    # Initialize new output DataFrame\n",
    "    output = pd.DataFrame(index = X.index)\n",
    "\n",
    "    # Investigate each feature column for the data\n",
    "    for col, col_data in X.iteritems():\n",
    "\n",
    "        # If data type is categorical, convert to dummy variables\n",
    "        if col_data.dtype == object:\n",
    "            # Example: 'SchoolMajor' => 'SchoolMajor_Accounting', 'SchoolMajor_Acting', ...\n",
    "            col_data = pd.get_dummies(col_data, prefix = col)  \n",
    "        \n",
    "        # Collect the revised columns\n",
    "        output = output.join(col_data)\n",
    "    \n",
    "    return output\n",
    "\n",
    "X_all = preprocess_features(X_all)\n",
    "print \"Processed feature columns ({} total features):\\n{}\".format(len(X_all.columns), list(X_all.columns))"
   ]
  },
  {
   "cell_type": "markdown",
   "metadata": {},
   "source": [
    "###  Training and Testing Data Split\n",
    "I use a test set with 25 % of the original data."
   ]
  },
  {
   "cell_type": "code",
   "execution_count": 496,
   "metadata": {
    "collapsed": false
   },
   "outputs": [
    {
     "name": "stdout",
     "output_type": "stream",
     "text": [
      "Training set has 476 samples.\n",
      "Testing set has 159 samples.\n"
     ]
    }
   ],
   "source": [
    "from sklearn.cross_validation import train_test_split\n",
    "\n",
    "# TODO: Shuffle and split the dataset into the number of training and testing points above\n",
    "X_train, X_test, y_train, y_test = train_test_split(X_all, y_all, test_size = 0.25, random_state = 42)\n",
    "\n",
    "# Show the results of the split\n",
    "print \"Training set has {} samples.\".format(X_train.shape[0])\n",
    "print \"Testing set has {} samples.\".format(X_test.shape[0])"
   ]
  },
  {
   "cell_type": "markdown",
   "metadata": {},
   "source": [
    "## Training and Evaluating Model"
   ]
  },
  {
   "cell_type": "code",
   "execution_count": 497,
   "metadata": {
    "collapsed": true
   },
   "outputs": [],
   "source": [
    "def train_classifier(clf, X_train, y_train):\n",
    "    ''' Fits a classifier to the training data. '''\n",
    "    \n",
    "    # Start the clock, train the classifier, then stop the clock\n",
    "    start = time()\n",
    "    clf.fit(X_train, y_train)\n",
    "    end = time()\n",
    "    \n",
    "    # Print the results\n",
    "    print \"Trained model in {:.4f} seconds\".format(end - start)\n",
    "\n",
    "    \n",
    "def predict_labels(clf, features, target):\n",
    "    ''' Makes predictions using a fit classifier based on F1 score. '''\n",
    "    \n",
    "    # Start the clock, make predictions, then stop the clock\n",
    "    start = time()\n",
    "    y_pred = clf.predict(features)\n",
    "    end = time()\n",
    "    \n",
    "    # Print and return results\n",
    "    print \"Made predictions in {:.4f} seconds.\".format(end - start)\n",
    "    return f1_score(target.values, y_pred, pos_label=1.)\n",
    "\n",
    "\n",
    "def train_predict(clf, X_train, y_train, X_test, y_test):\n",
    "    ''' Train and predict using a classifer based on F1 score. '''\n",
    "    \n",
    "    # Indicate the classifier and the training set size\n",
    "    print \"Training a {} using a training set size of {}. . .\".format(clf.__class__.__name__, len(X_train))\n",
    "    \n",
    "    # Train the classifier\n",
    "    train_classifier(clf, X_train, y_train)\n",
    "    \n",
    "    # Print the results of prediction for both training and testing\n",
    "    print \"F1 score for training set: {:.4f}.\".format(predict_labels(clf, X_train, y_train))\n",
    "    print \"F1 score for test set: {:.4f}.\".format(predict_labels(clf, X_test, y_test))"
   ]
  },
  {
   "cell_type": "code",
   "execution_count": 498,
   "metadata": {
    "collapsed": false
   },
   "outputs": [
    {
     "name": "stdout",
     "output_type": "stream",
     "text": [
      "\n",
      "DecisionTreeClassifier: \n",
      "\n",
      "Training a DecisionTreeClassifier using a training set size of 100. . .\n",
      "Trained model in 0.0021 seconds\n",
      "Made predictions in 0.0004 seconds.\n",
      "F1 score for training set: 1.0000.\n",
      "Made predictions in 0.0002 seconds.\n",
      "F1 score for test set: 0.8478.\n",
      "Training a DecisionTreeClassifier using a training set size of 200. . .\n",
      "Trained model in 0.0031 seconds\n",
      "Made predictions in 0.0003 seconds.\n",
      "F1 score for training set: 1.0000.\n",
      "Made predictions in 0.0003 seconds.\n",
      "F1 score for test set: 0.8342.\n",
      "Training a DecisionTreeClassifier using a training set size of 300. . .\n",
      "Trained model in 0.0061 seconds\n",
      "Made predictions in 0.0004 seconds.\n",
      "F1 score for training set: 1.0000.\n",
      "Made predictions in 0.0002 seconds.\n",
      "F1 score for test set: 0.8022.\n",
      "\n",
      "GaussianNB: \n",
      "\n",
      "Training a GaussianNB using a training set size of 100. . .\n",
      "Trained model in 0.0013 seconds\n",
      "Made predictions in 0.0007 seconds.\n",
      "F1 score for training set: 0.8644.\n",
      "Made predictions in 0.0013 seconds.\n",
      "F1 score for test set: 0.7345.\n",
      "Training a GaussianNB using a training set size of 200. . .\n",
      "Trained model in 0.0018 seconds\n",
      "Made predictions in 0.0022 seconds.\n",
      "F1 score for training set: 0.4790.\n",
      "Made predictions in 0.0025 seconds.\n",
      "F1 score for test set: 0.4511.\n",
      "Training a GaussianNB using a training set size of 300. . .\n",
      "Trained model in 0.0026 seconds\n",
      "Made predictions in 0.0029 seconds.\n",
      "F1 score for training set: 0.4898.\n",
      "Made predictions in 0.0009 seconds.\n",
      "F1 score for test set: 0.4741.\n",
      "\n",
      "SVC: \n",
      "\n",
      "Training a SVC using a training set size of 100. . .\n",
      "Trained model in 0.0097 seconds\n",
      "Made predictions in 0.0086 seconds.\n",
      "F1 score for training set: 1.0000.\n",
      "Made predictions in 0.0139 seconds.\n",
      "F1 score for test set: 0.7309.\n",
      "Training a SVC using a training set size of 200. . .\n",
      "Trained model in 0.0355 seconds\n",
      "Made predictions in 0.0339 seconds.\n",
      "F1 score for training set: 1.0000.\n",
      "Made predictions in 0.0269 seconds.\n",
      "F1 score for test set: 0.7309.\n",
      "Training a SVC using a training set size of 300. . .\n",
      "Trained model in 0.0812 seconds\n",
      "Made predictions in 0.0742 seconds.\n",
      "F1 score for training set: 0.9971.\n",
      "Made predictions in 0.0363 seconds.\n",
      "F1 score for test set: 0.7339.\n"
     ]
    }
   ],
   "source": [
    "# Import the three supervised learning models from sklearn\n",
    "from sklearn.tree import DecisionTreeClassifier\n",
    "from sklearn.naive_bayes import GaussianNB\n",
    "from sklearn.svm import SVC\n",
    "from sklearn.ensemble import AdaBoostClassifier\n",
    "\n",
    "# Initialize the three models\n",
    "clf_A = DecisionTreeClassifier(random_state=42)\n",
    "clf_B = GaussianNB()\n",
    "clf_C = SVC(random_state=42)\n",
    "\n",
    "# Execute the 'train_predict' function for each classifier and each training set size\n",
    "# train_predict(clf, X_train, y_train, X_test, y_test)\n",
    "for clf in [clf_A, clf_B, clf_C]:\n",
    "    print \"\\n{}: \\n\".format(clf.__class__.__name__)\n",
    "    for n in [100, 200, 300]:\n",
    "        train_predict(clf, X_train[:n], y_train[:n], X_test, y_test)"
   ]
  },
  {
   "cell_type": "code",
   "execution_count": 499,
   "metadata": {
    "collapsed": false
   },
   "outputs": [
    {
     "name": "stdout",
     "output_type": "stream",
     "text": [
      "Made predictions in 0.0006 seconds.\n",
      "Tuned model has a training F1 score of 0.9280.\n",
      "Made predictions in 0.0002 seconds.\n",
      "Tuned model has a testing F1 score of 0.8603.\n"
     ]
    }
   ],
   "source": [
    "# Import 'gridSearchCV' and 'make_scorer'\n",
    "from sklearn.grid_search import GridSearchCV\n",
    "from sklearn.metrics import make_scorer\n",
    "\n",
    "# TODO: Create the parameters list you wish to tune\n",
    "parameters = {'min_samples_split': range(5,200,5)}\n",
    "\n",
    "# TODO: Initialize the classifier\n",
    "clf = DecisionTreeClassifier(random_state=42)\n",
    "\n",
    "# TODO: Make an f1 scoring function using 'make_scorer' \n",
    "f1_scorer = make_scorer(f1_score,pos_label=1.)\n",
    "\n",
    "# TODO: Perform grid search on the classifier using the f1_scorer as the scoring method\n",
    "grid_obj = GridSearchCV(clf, parameters, scoring = f1_scorer)\n",
    "\n",
    "# TODO: Fit the grid search object to the training data and find the optimal parameters\n",
    "grid_obj = grid_obj.fit(X_train, y_train)\n",
    "\n",
    "# Get the estimator\n",
    "clf = grid_obj.best_estimator_\n",
    "\n",
    "# Report the final F1 score for training and testing after parameter tuning\n",
    "print \"Tuned model has a training F1 score of {:.4f}.\".format(predict_labels(clf, X_train, y_train))\n",
    "print \"Tuned model has a testing F1 score of {:.4f}.\".format(predict_labels(clf, X_test, y_test))"
   ]
  }
 ],
 "metadata": {
  "kernelspec": {
   "display_name": "Python 2",
   "language": "python",
   "name": "python2"
  },
  "language_info": {
   "codemirror_mode": {
    "name": "ipython",
    "version": 2
   },
   "file_extension": ".py",
   "mimetype": "text/x-python",
   "name": "python",
   "nbconvert_exporter": "python",
   "pygments_lexer": "ipython2",
   "version": "2.7.12"
  }
 },
 "nbformat": 4,
 "nbformat_minor": 0
}
